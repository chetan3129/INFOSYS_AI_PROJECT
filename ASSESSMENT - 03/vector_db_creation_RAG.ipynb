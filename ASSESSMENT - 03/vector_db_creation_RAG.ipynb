{
 "cells": [
  {
   "cell_type": "code",
   "execution_count": 1,
   "id": "13d2180d-61a7-4213-b703-012cc7d0c770",
   "metadata": {},
   "outputs": [],
   "source": [
    "from langchain_together import TogetherEmbeddings\n",
    "import pandas as pd\n",
    "import numpy as np"
   ]
  },
  {
   "cell_type": "code",
   "execution_count": 2,
   "id": "9a45720b-685c-46f1-be12-0dfea660c036",
   "metadata": {},
   "outputs": [],
   "source": [
    "df = pd.read_excel('reviews_data.xlsx')"
   ]
  },
  {
   "cell_type": "code",
   "execution_count": 3,
   "id": "36c33ea1-46fb-4272-960e-697b2dac017f",
   "metadata": {},
   "outputs": [
    {
     "data": {
      "text/html": [
       "<div>\n",
       "<style scoped>\n",
       "    .dataframe tbody tr th:only-of-type {\n",
       "        vertical-align: middle;\n",
       "    }\n",
       "\n",
       "    .dataframe tbody tr th {\n",
       "        vertical-align: top;\n",
       "    }\n",
       "\n",
       "    .dataframe thead th {\n",
       "        text-align: right;\n",
       "    }\n",
       "</style>\n",
       "<table border=\"1\" class=\"dataframe\">\n",
       "  <thead>\n",
       "    <tr style=\"text-align: right;\">\n",
       "      <th></th>\n",
       "      <th>review_id</th>\n",
       "      <th>customer_id</th>\n",
       "      <th>review_date</th>\n",
       "      <th>Review</th>\n",
       "      <th>Rating</th>\n",
       "      <th>review_date_numeric</th>\n",
       "    </tr>\n",
       "  </thead>\n",
       "  <tbody>\n",
       "    <tr>\n",
       "      <th>0</th>\n",
       "      <td>11722</td>\n",
       "      <td>5380</td>\n",
       "      <td>2024-11-04</td>\n",
       "      <td>The room provided at first was a great disapp...</td>\n",
       "      <td>6.7</td>\n",
       "      <td>20241104</td>\n",
       "    </tr>\n",
       "    <tr>\n",
       "      <th>1</th>\n",
       "      <td>8604</td>\n",
       "      <td>8832</td>\n",
       "      <td>2024-03-01</td>\n",
       "      <td>The room wasn t so large for a Deluxe King bu...</td>\n",
       "      <td>9.6</td>\n",
       "      <td>20240301</td>\n",
       "    </tr>\n",
       "    <tr>\n",
       "      <th>2</th>\n",
       "      <td>3923</td>\n",
       "      <td>7301</td>\n",
       "      <td>2023-09-04</td>\n",
       "      <td>on arrival we had to wait over an hour after ...</td>\n",
       "      <td>7.1</td>\n",
       "      <td>20230904</td>\n",
       "    </tr>\n",
       "    <tr>\n",
       "      <th>3</th>\n",
       "      <td>10050</td>\n",
       "      <td>3968</td>\n",
       "      <td>2023-09-02</td>\n",
       "      <td>The room reminded me of a dorm room furnished...</td>\n",
       "      <td>7.9</td>\n",
       "      <td>20230902</td>\n",
       "    </tr>\n",
       "    <tr>\n",
       "      <th>4</th>\n",
       "      <td>2077</td>\n",
       "      <td>6085</td>\n",
       "      <td>2024-05-17</td>\n",
       "      <td>The room was very small the AC didn t work at...</td>\n",
       "      <td>8.8</td>\n",
       "      <td>20240517</td>\n",
       "    </tr>\n",
       "    <tr>\n",
       "      <th>...</th>\n",
       "      <td>...</td>\n",
       "      <td>...</td>\n",
       "      <td>...</td>\n",
       "      <td>...</td>\n",
       "      <td>...</td>\n",
       "      <td>...</td>\n",
       "    </tr>\n",
       "    <tr>\n",
       "      <th>8377</th>\n",
       "      <td>5928</td>\n",
       "      <td>1546</td>\n",
       "      <td>2023-04-30</td>\n",
       "      <td>Bathroom and toilet are small but spotlessly ...</td>\n",
       "      <td>10.0</td>\n",
       "      <td>20230430</td>\n",
       "    </tr>\n",
       "    <tr>\n",
       "      <th>8378</th>\n",
       "      <td>7439</td>\n",
       "      <td>4787</td>\n",
       "      <td>2024-01-30</td>\n",
       "      <td>Heating system in the room instructions on ho...</td>\n",
       "      <td>9.2</td>\n",
       "      <td>20240130</td>\n",
       "    </tr>\n",
       "    <tr>\n",
       "      <th>8379</th>\n",
       "      <td>339</td>\n",
       "      <td>4936</td>\n",
       "      <td>2024-10-11</td>\n",
       "      <td>Entering the hotel involved crossing an open ...</td>\n",
       "      <td>9.2</td>\n",
       "      <td>20241011</td>\n",
       "    </tr>\n",
       "    <tr>\n",
       "      <th>8380</th>\n",
       "      <td>6816</td>\n",
       "      <td>8542</td>\n",
       "      <td>2024-09-01</td>\n",
       "      <td>The hotel is very old Room are out of date an...</td>\n",
       "      <td>4.2</td>\n",
       "      <td>20240901</td>\n",
       "    </tr>\n",
       "    <tr>\n",
       "      <th>8381</th>\n",
       "      <td>3429</td>\n",
       "      <td>1971</td>\n",
       "      <td>2024-10-15</td>\n",
       "      <td>The staff members were very friendly and hel...</td>\n",
       "      <td>10.0</td>\n",
       "      <td>20241015</td>\n",
       "    </tr>\n",
       "  </tbody>\n",
       "</table>\n",
       "<p>8382 rows × 6 columns</p>\n",
       "</div>"
      ],
      "text/plain": [
       "      review_id  customer_id review_date  \\\n",
       "0         11722         5380  2024-11-04   \n",
       "1          8604         8832  2024-03-01   \n",
       "2          3923         7301  2023-09-04   \n",
       "3         10050         3968  2023-09-02   \n",
       "4          2077         6085  2024-05-17   \n",
       "...         ...          ...         ...   \n",
       "8377       5928         1546  2023-04-30   \n",
       "8378       7439         4787  2024-01-30   \n",
       "8379        339         4936  2024-10-11   \n",
       "8380       6816         8542  2024-09-01   \n",
       "8381       3429         1971  2024-10-15   \n",
       "\n",
       "                                                 Review  Rating  \\\n",
       "0      The room provided at first was a great disapp...     6.7   \n",
       "1      The room wasn t so large for a Deluxe King bu...     9.6   \n",
       "2      on arrival we had to wait over an hour after ...     7.1   \n",
       "3      The room reminded me of a dorm room furnished...     7.9   \n",
       "4      The room was very small the AC didn t work at...     8.8   \n",
       "...                                                 ...     ...   \n",
       "8377   Bathroom and toilet are small but spotlessly ...    10.0   \n",
       "8378   Heating system in the room instructions on ho...     9.2   \n",
       "8379   Entering the hotel involved crossing an open ...     9.2   \n",
       "8380   The hotel is very old Room are out of date an...     4.2   \n",
       "8381    The staff members were very friendly and hel...    10.0   \n",
       "\n",
       "      review_date_numeric  \n",
       "0                20241104  \n",
       "1                20240301  \n",
       "2                20230904  \n",
       "3                20230902  \n",
       "4                20240517  \n",
       "...                   ...  \n",
       "8377             20230430  \n",
       "8378             20240130  \n",
       "8379             20241011  \n",
       "8380             20240901  \n",
       "8381             20241015  \n",
       "\n",
       "[8382 rows x 6 columns]"
      ]
     },
     "execution_count": 3,
     "metadata": {},
     "output_type": "execute_result"
    }
   ],
   "source": [
    "df"
   ]
  },
  {
   "cell_type": "code",
   "execution_count": null,
   "id": "203f7aa8-3331-4da8-a68b-20a45e275f28",
   "metadata": {},
   "outputs": [],
   "source": [
    "import os\n",
    "import getpass\n",
    "if not os.getenv(\"TOGETHER_API_KEY\"):\n",
    "    os.environ[\"TOGETHER_API_KEY\"] = \"\"\n",
    "\n",
    "# Initialize the TogetherEmbeddings model\n",
    "embeddings = TogetherEmbeddings(\n",
    "    model=\"togethercomputer/m2-bert-80M-8k-retrieval\"  # Example model; check docs for Llama-based alternatives\n",
    ")"
   ]
  },
  {
   "cell_type": "code",
   "execution_count": 5,
   "id": "d8a198fe-fd5a-4d5b-9934-8c7b1ea8667e",
   "metadata": {},
   "outputs": [
    {
     "name": "stdout",
     "output_type": "stream",
     "text": [
      "Processed 128 / 8382 reviews\n",
      "Processed 256 / 8382 reviews\n",
      "Processed 384 / 8382 reviews\n",
      "Processed 512 / 8382 reviews\n",
      "Processed 640 / 8382 reviews\n",
      "Processed 768 / 8382 reviews\n",
      "Processed 896 / 8382 reviews\n",
      "Processed 1024 / 8382 reviews\n",
      "Processed 1152 / 8382 reviews\n",
      "Processed 1280 / 8382 reviews\n",
      "Processed 1408 / 8382 reviews\n",
      "Processed 1536 / 8382 reviews\n",
      "Processed 1664 / 8382 reviews\n",
      "Processed 1792 / 8382 reviews\n",
      "Processed 1920 / 8382 reviews\n",
      "Processed 2048 / 8382 reviews\n",
      "Processed 2176 / 8382 reviews\n",
      "Processed 2304 / 8382 reviews\n",
      "Processed 2432 / 8382 reviews\n",
      "Processed 2560 / 8382 reviews\n",
      "Processed 2688 / 8382 reviews\n",
      "Processed 2816 / 8382 reviews\n",
      "Processed 2944 / 8382 reviews\n",
      "Processed 3072 / 8382 reviews\n",
      "Processed 3200 / 8382 reviews\n",
      "Processed 3328 / 8382 reviews\n",
      "Processed 3456 / 8382 reviews\n",
      "Processed 3584 / 8382 reviews\n",
      "Processed 3712 / 8382 reviews\n",
      "Processed 3840 / 8382 reviews\n",
      "Processed 3968 / 8382 reviews\n",
      "Processed 4096 / 8382 reviews\n",
      "Processed 4224 / 8382 reviews\n",
      "Processed 4352 / 8382 reviews\n",
      "Processed 4480 / 8382 reviews\n",
      "Processed 4608 / 8382 reviews\n",
      "Processed 4736 / 8382 reviews\n",
      "Processed 4864 / 8382 reviews\n",
      "Processed 4992 / 8382 reviews\n",
      "Processed 5120 / 8382 reviews\n",
      "Processed 5248 / 8382 reviews\n",
      "Processed 5376 / 8382 reviews\n",
      "Processed 5504 / 8382 reviews\n",
      "Processed 5632 / 8382 reviews\n",
      "Processed 5760 / 8382 reviews\n",
      "Processed 5888 / 8382 reviews\n",
      "Processed 6016 / 8382 reviews\n",
      "Processed 6144 / 8382 reviews\n",
      "Processed 6272 / 8382 reviews\n",
      "Processed 6400 / 8382 reviews\n",
      "Processed 6528 / 8382 reviews\n",
      "Processed 6656 / 8382 reviews\n",
      "Processed 6784 / 8382 reviews\n",
      "Processed 6912 / 8382 reviews\n",
      "Processed 7040 / 8382 reviews\n",
      "Processed 7168 / 8382 reviews\n",
      "Processed 7296 / 8382 reviews\n",
      "Processed 7424 / 8382 reviews\n",
      "Processed 7552 / 8382 reviews\n",
      "Processed 7680 / 8382 reviews\n",
      "Processed 7808 / 8382 reviews\n",
      "Processed 7936 / 8382 reviews\n",
      "Processed 8064 / 8382 reviews\n",
      "Processed 8192 / 8382 reviews\n",
      "Processed 8320 / 8382 reviews\n",
      "Processed 8382 / 8382 reviews\n"
     ]
    }
   ],
   "source": [
    "## Create Embeddings \n",
    "reviews = df[\"Review\"].tolist()\n",
    "\n",
    "# Process embeddings in batches\n",
    "embedding_list = []\n",
    "for i in range(0, len(reviews), 128):\n",
    "    batch = reviews[i : i + 128]  # Get batch\n",
    "    batch_embeddings = embeddings.embed_documents(batch)  # Generate embeddings for batch\n",
    "    embedding_list.extend(batch_embeddings)  # Store results\n",
    "    print(f\"Processed {i + len(batch)} / {len(reviews)} reviews\")"
   ]
  },
  {
   "cell_type": "code",
   "execution_count": 6,
   "id": "244ff6f5-a350-473d-8314-63bf51f5cf00",
   "metadata": {},
   "outputs": [],
   "source": [
    "metadata_list = df.apply(lambda row: {\n",
    "    \"customer_id\": int(row[\"customer_id\"]),\n",
    "    \"review_date\": row[\"review_date_numeric\"],\n",
    "    \"Rating\": int(row[\"Rating\"]),\n",
    "    \"review_id\":row['review_id']\n",
    "}, axis=1).tolist()"
   ]
  },
  {
   "cell_type": "code",
   "execution_count": 7,
   "id": "06d75c91-aba0-4dd0-8186-484545aa7d90",
   "metadata": {},
   "outputs": [
    {
     "data": {
      "text/plain": [
       "{'customer_id': 5380, 'review_date': 20241104, 'Rating': 6, 'review_id': 11722}"
      ]
     },
     "execution_count": 7,
     "metadata": {},
     "output_type": "execute_result"
    }
   ],
   "source": [
    "metadata_list[0]"
   ]
  },
  {
   "cell_type": "code",
   "execution_count": null,
   "id": "f9e528a7",
   "metadata": {},
   "outputs": [],
   "source": [
    "import os\n",
    "os.environ[\"PINECONE_API_KEY\"] = \"\""
   ]
  },
  {
   "cell_type": "code",
   "execution_count": 29,
   "id": "14ba5b7d-9f25-4e58-854b-27e5646c5a2e",
   "metadata": {},
   "outputs": [
    {
     "name": "stdout",
     "output_type": "stream",
     "text": [
      "pcsk_2VGEWR_GToh8JpFKqZipqezYuym65c5Y1okY3BneJetVqVHE3b1JDvCzQBg5bmmbyHSkJX\n"
     ]
    }
   ],
   "source": [
    "import os\n",
    "print(os.getenv(\"PINECONE_API_KEY\"))  # Ensure it prints a valid key"
   ]
  },
  {
   "cell_type": "markdown",
   "id": "28da6868-8738-4212-b6bb-6ee0068af5e8",
   "metadata": {},
   "source": [
    "# Check whether any indexes already exist"
   ]
  },
  {
   "cell_type": "code",
   "execution_count": 30,
   "id": "7f089a1c-0f94-4bea-b0b3-9f71edf7b32f",
   "metadata": {},
   "outputs": [
    {
     "name": "stdout",
     "output_type": "stream",
     "text": [
      "[{\n",
      "    \"name\": \"hotel-reviews\",\n",
      "    \"metric\": \"cosine\",\n",
      "    \"host\": \"hotel-reviews-778bu11.svc.aped-4627-b74a.pinecone.io\",\n",
      "    \"spec\": {\n",
      "        \"serverless\": {\n",
      "            \"cloud\": \"aws\",\n",
      "            \"region\": \"us-east-1\"\n",
      "        }\n",
      "    },\n",
      "    \"status\": {\n",
      "        \"ready\": true,\n",
      "        \"state\": \"Ready\"\n",
      "    },\n",
      "    \"vector_type\": \"dense\",\n",
      "    \"dimension\": 768,\n",
      "    \"deletion_protection\": \"enabled\",\n",
      "    \"tags\": null\n",
      "}, {\n",
      "    \"name\": \"hotelreviews\",\n",
      "    \"metric\": \"cosine\",\n",
      "    \"host\": \"hotelreviews-778bu11.svc.aped-4627-b74a.pinecone.io\",\n",
      "    \"spec\": {\n",
      "        \"serverless\": {\n",
      "            \"cloud\": \"aws\",\n",
      "            \"region\": \"us-east-1\"\n",
      "        }\n",
      "    },\n",
      "    \"status\": {\n",
      "        \"ready\": true,\n",
      "        \"state\": \"Ready\"\n",
      "    },\n",
      "    \"vector_type\": \"dense\",\n",
      "    \"dimension\": 768,\n",
      "    \"deletion_protection\": \"enabled\",\n",
      "    \"tags\": null\n",
      "}]\n"
     ]
    }
   ],
   "source": [
    "import os\n",
    "from pinecone import Pinecone\n",
    "\n",
    "# Load API key from environment\n",
    "api_key = os.getenv(\"PINECONE_API_KEY\")\n",
    "\n",
    "if not api_key:\n",
    "    raise ValueError(\"PINECONE_API_KEY is not set. Please set it before running.\")\n",
    "\n",
    "# Create Pinecone client\n",
    "pc = Pinecone(api_key=api_key)\n",
    "\n",
    "# List all indexes\n",
    "print(pc.list_indexes())"
   ]
  },
  {
   "cell_type": "markdown",
   "id": "51971b6c-e95d-4325-a129-c91346eb4d4b",
   "metadata": {},
   "source": [
    "# create the index"
   ]
  },
  {
   "cell_type": "code",
   "execution_count": 31,
   "id": "ee91521d-d8ab-4cb1-8925-26278832f9c5",
   "metadata": {},
   "outputs": [
    {
     "data": {
      "text/plain": [
       "{\n",
       "    \"name\": \"hotelreview\",\n",
       "    \"metric\": \"cosine\",\n",
       "    \"host\": \"hotelreview-778bu11.svc.aped-4627-b74a.pinecone.io\",\n",
       "    \"spec\": {\n",
       "        \"serverless\": {\n",
       "            \"cloud\": \"aws\",\n",
       "            \"region\": \"us-east-1\"\n",
       "        }\n",
       "    },\n",
       "    \"status\": {\n",
       "        \"ready\": true,\n",
       "        \"state\": \"Ready\"\n",
       "    },\n",
       "    \"vector_type\": \"dense\",\n",
       "    \"dimension\": 768,\n",
       "    \"deletion_protection\": \"disabled\",\n",
       "    \"tags\": null\n",
       "}"
      ]
     },
     "execution_count": 31,
     "metadata": {},
     "output_type": "execute_result"
    }
   ],
   "source": [
    "from pinecone import Pinecone, ServerlessSpec\n",
    "# Create an index\n",
    "pc.create_index(\n",
    "    name='hotelreview',\n",
    "    dimension=768,  # Ensure this matches your embedding model\n",
    "    metric='cosine',\n",
    "    spec=ServerlessSpec(\n",
    "        cloud='aws',\n",
    "        region='us-east-1'\n",
    "    )\n",
    ")"
   ]
  },
  {
   "cell_type": "code",
   "execution_count": null,
   "id": "a8176725-450d-4c9c-a834-2e6eb136d0c0",
   "metadata": {},
   "outputs": [],
   "source": [
    "index = pc.Index(host=\"\")"
   ]
  },
  {
   "cell_type": "code",
   "execution_count": 33,
   "id": "3f1b25d4-01f7-4cb2-bee9-d6067d959bc1",
   "metadata": {},
   "outputs": [],
   "source": [
    "vectors = [\n",
    "    (str(i), embedding, metadata_list[i])\n",
    "    for i, embedding in enumerate(embedding_list)\n",
    "]"
   ]
  },
  {
   "cell_type": "code",
   "execution_count": 34,
   "id": "6f7bcb28",
   "metadata": {},
   "outputs": [
    {
     "name": "stdout",
     "output_type": "stream",
     "text": [
      "[{\n",
      "    \"name\": \"hotelreview\",\n",
      "    \"metric\": \"cosine\",\n",
      "    \"host\": \"hotelreview-778bu11.svc.aped-4627-b74a.pinecone.io\",\n",
      "    \"spec\": {\n",
      "        \"serverless\": {\n",
      "            \"cloud\": \"aws\",\n",
      "            \"region\": \"us-east-1\"\n",
      "        }\n",
      "    },\n",
      "    \"status\": {\n",
      "        \"ready\": true,\n",
      "        \"state\": \"Ready\"\n",
      "    },\n",
      "    \"vector_type\": \"dense\",\n",
      "    \"dimension\": 768,\n",
      "    \"deletion_protection\": \"disabled\",\n",
      "    \"tags\": null\n",
      "}, {\n",
      "    \"name\": \"hotel-reviews\",\n",
      "    \"metric\": \"cosine\",\n",
      "    \"host\": \"hotel-reviews-778bu11.svc.aped-4627-b74a.pinecone.io\",\n",
      "    \"spec\": {\n",
      "        \"serverless\": {\n",
      "            \"cloud\": \"aws\",\n",
      "            \"region\": \"us-east-1\"\n",
      "        }\n",
      "    },\n",
      "    \"status\": {\n",
      "        \"ready\": true,\n",
      "        \"state\": \"Ready\"\n",
      "    },\n",
      "    \"vector_type\": \"dense\",\n",
      "    \"dimension\": 768,\n",
      "    \"deletion_protection\": \"enabled\",\n",
      "    \"tags\": null\n",
      "}, {\n",
      "    \"name\": \"hotelreviews\",\n",
      "    \"metric\": \"cosine\",\n",
      "    \"host\": \"hotelreviews-778bu11.svc.aped-4627-b74a.pinecone.io\",\n",
      "    \"spec\": {\n",
      "        \"serverless\": {\n",
      "            \"cloud\": \"aws\",\n",
      "            \"region\": \"us-east-1\"\n",
      "        }\n",
      "    },\n",
      "    \"status\": {\n",
      "        \"ready\": true,\n",
      "        \"state\": \"Ready\"\n",
      "    },\n",
      "    \"vector_type\": \"dense\",\n",
      "    \"dimension\": 768,\n",
      "    \"deletion_protection\": \"enabled\",\n",
      "    \"tags\": null\n",
      "}]\n"
     ]
    }
   ],
   "source": [
    "print(pc.list_indexes())  # Check if the index exists"
   ]
  },
  {
   "cell_type": "markdown",
   "id": "3eb10427-9e6b-40d0-a3f0-90bca485cb0c",
   "metadata": {},
   "source": [
    "# Insert embeddings + metadata into the index"
   ]
  },
  {
   "cell_type": "code",
   "execution_count": 35,
   "id": "7ee4f5f1-ba4e-495b-9ba2-e0cf49f1344a",
   "metadata": {},
   "outputs": [
    {
     "name": "stdout",
     "output_type": "stream",
     "text": [
      "Upserted batch from 0 to 100\n",
      "Upserted batch from 100 to 200\n",
      "Upserted batch from 200 to 300\n",
      "Upserted batch from 300 to 400\n",
      "Upserted batch from 400 to 500\n",
      "Upserted batch from 500 to 600\n",
      "Upserted batch from 600 to 700\n",
      "Upserted batch from 700 to 800\n",
      "Upserted batch from 800 to 900\n",
      "Upserted batch from 900 to 1000\n",
      "Upserted batch from 1000 to 1100\n",
      "Upserted batch from 1100 to 1200\n",
      "Upserted batch from 1200 to 1300\n",
      "Upserted batch from 1300 to 1400\n",
      "Upserted batch from 1400 to 1500\n",
      "Upserted batch from 1500 to 1600\n",
      "Upserted batch from 1600 to 1700\n",
      "Upserted batch from 1700 to 1800\n",
      "Upserted batch from 1800 to 1900\n",
      "Upserted batch from 1900 to 2000\n",
      "Upserted batch from 2000 to 2100\n",
      "Upserted batch from 2100 to 2200\n",
      "Upserted batch from 2200 to 2300\n",
      "Upserted batch from 2300 to 2400\n",
      "Upserted batch from 2400 to 2500\n",
      "Upserted batch from 2500 to 2600\n",
      "Upserted batch from 2600 to 2700\n",
      "Upserted batch from 2700 to 2800\n",
      "Upserted batch from 2800 to 2900\n",
      "Upserted batch from 2900 to 3000\n",
      "Upserted batch from 3000 to 3100\n",
      "Upserted batch from 3100 to 3200\n",
      "Upserted batch from 3200 to 3300\n",
      "Upserted batch from 3300 to 3400\n",
      "Upserted batch from 3400 to 3500\n",
      "Upserted batch from 3500 to 3600\n",
      "Upserted batch from 3600 to 3700\n",
      "Upserted batch from 3700 to 3800\n",
      "Upserted batch from 3800 to 3900\n",
      "Upserted batch from 3900 to 4000\n",
      "Upserted batch from 4000 to 4100\n",
      "Upserted batch from 4100 to 4200\n",
      "Upserted batch from 4200 to 4300\n",
      "Upserted batch from 4300 to 4400\n",
      "Upserted batch from 4400 to 4500\n",
      "Upserted batch from 4500 to 4600\n",
      "Upserted batch from 4600 to 4700\n",
      "Upserted batch from 4700 to 4800\n",
      "Upserted batch from 4800 to 4900\n",
      "Upserted batch from 4900 to 5000\n",
      "Upserted batch from 5000 to 5100\n",
      "Upserted batch from 5100 to 5200\n",
      "Upserted batch from 5200 to 5300\n",
      "Upserted batch from 5300 to 5400\n",
      "Upserted batch from 5400 to 5500\n",
      "Upserted batch from 5500 to 5600\n",
      "Upserted batch from 5600 to 5700\n",
      "Upserted batch from 5700 to 5800\n",
      "Upserted batch from 5800 to 5900\n",
      "Upserted batch from 5900 to 6000\n",
      "Upserted batch from 6000 to 6100\n",
      "Upserted batch from 6100 to 6200\n",
      "Upserted batch from 6200 to 6300\n",
      "Upserted batch from 6300 to 6400\n",
      "Upserted batch from 6400 to 6500\n",
      "Upserted batch from 6500 to 6600\n",
      "Upserted batch from 6600 to 6700\n",
      "Upserted batch from 6700 to 6800\n",
      "Upserted batch from 6800 to 6900\n",
      "Upserted batch from 6900 to 7000\n",
      "Upserted batch from 7000 to 7100\n",
      "Upserted batch from 7100 to 7200\n",
      "Upserted batch from 7200 to 7300\n",
      "Upserted batch from 7300 to 7400\n",
      "Upserted batch from 7400 to 7500\n",
      "Upserted batch from 7500 to 7600\n",
      "Upserted batch from 7600 to 7700\n",
      "Upserted batch from 7700 to 7800\n",
      "Upserted batch from 7800 to 7900\n",
      "Upserted batch from 7900 to 8000\n",
      "Upserted batch from 8000 to 8100\n",
      "Upserted batch from 8100 to 8200\n",
      "Upserted batch from 8200 to 8300\n",
      "Upserted batch from 8300 to 8382\n"
     ]
    }
   ],
   "source": [
    "batch_size = 100  # Adjust this number as needed.\n",
    "\n",
    "for i in range(0, len(embedding_list), batch_size):\n",
    "    batch_vectors = [\n",
    "        (str(i + j), embedding_list[i + j], metadata_list[i + j])\n",
    "        for j in range(min(batch_size, len(embedding_list) - i))\n",
    "    ]\n",
    "    index.upsert(vectors=batch_vectors)\n",
    "    print(f\"Upserted batch from {i} to {i + len(batch_vectors)}\")\n"
   ]
  },
  {
   "cell_type": "markdown",
   "id": "d6ec4a71-af28-474f-b51c-509dd38e8324",
   "metadata": {},
   "source": [
    "# experiment with below parts"
   ]
  },
  {
   "cell_type": "code",
   "execution_count": 36,
   "id": "4303db9f-a121-4ed8-99b7-015e2d612f9f",
   "metadata": {},
   "outputs": [],
   "source": [
    "query_embedding = embeddings.embed_query(\"What are some of the reviews that mention restaurant, food, lunch, breakfast, dinner\")"
   ]
  },
  {
   "cell_type": "code",
   "execution_count": 37,
   "id": "dbf07717-4240-4ed8-94ae-6a83aeedae05",
   "metadata": {},
   "outputs": [],
   "source": [
    "results = index.query(\n",
    "    vector=query_embedding,\n",
    "    top_k=5,\n",
    "    namespace=\"\",\n",
    "    include_metadata=True,\n",
    "    filter={\n",
    "        \"Rating\": {\"$lte\": 9},\n",
    "        \"review_date\": {\"$gte\": 20240101, \"$lte\": 20240108}\n",
    "    }\n",
    ")"
   ]
  },
  {
   "cell_type": "code",
   "execution_count": 38,
   "id": "7b186c59-2b48-486b-bc81-bb398520345a",
   "metadata": {},
   "outputs": [],
   "source": [
    "matches = results[\"matches\"]\n",
    "\n",
    "# Extract review_ids from the matches (convert them to int if necessary)\n",
    "matched_ids = [int(match[\"metadata\"][\"review_id\"]) for match in matches]"
   ]
  },
  {
   "cell_type": "code",
   "execution_count": 39,
   "id": "a4aef9bb-33be-49bf-92f3-b7412514c5ce",
   "metadata": {},
   "outputs": [
    {
     "data": {
      "text/plain": [
       "[5410, 8647, 11531, 2910, 2593]"
      ]
     },
     "execution_count": 39,
     "metadata": {},
     "output_type": "execute_result"
    }
   ],
   "source": [
    "matched_ids"
   ]
  },
  {
   "cell_type": "code",
   "execution_count": 40,
   "id": "88c95303-869e-4158-8f46-50f91f07f0d0",
   "metadata": {},
   "outputs": [],
   "source": [
    "req_df = df[df[\"review_id\"].isin(matched_ids)]"
   ]
  },
  {
   "cell_type": "code",
   "execution_count": 41,
   "id": "2759e5c9-9e8d-4029-9d6e-afc8e10b5214",
   "metadata": {},
   "outputs": [
    {
     "data": {
      "text/plain": [
       "486      Shower taps need descaling horrid smell from ...\n",
       "1622     The people working on the terrace bar are pre...\n",
       "2018     When we arrived to check in there was a misun...\n",
       "5794     Having to pay for one item I used in the mini...\n",
       "8249     Loved everything only negative was STK We wer...\n",
       "Name: Review, dtype: object"
      ]
     },
     "execution_count": 41,
     "metadata": {},
     "output_type": "execute_result"
    }
   ],
   "source": [
    "req_df['Review']"
   ]
  },
  {
   "cell_type": "code",
   "execution_count": 42,
   "id": "6dcc3a65-aa69-43ce-bc4a-f05032488309",
   "metadata": {},
   "outputs": [],
   "source": [
    "concatenated_reviews = \" \".join(req_df[\"Review\"].tolist())"
   ]
  },
  {
   "cell_type": "code",
   "execution_count": 43,
   "id": "dea2efd4-f14e-4f6b-af3d-2320a15382c2",
   "metadata": {},
   "outputs": [
    {
     "data": {
      "text/plain": [
       "' Shower taps need descaling horrid smell from drains the new booth seating is so unfriendly the older decor made more sense New menu card room dining not advisable limited choice of average food Tea cakes were cold from fridge so cream in the cakes was There were no more small tasty affordable snacks like the crab cakes of tandoori salmon or tatty etc Pity You lost 15 customers who went to eat elsewhere daily for 3 days   location  The people working on the terrace bar are pretty slow preparing beverages so you need to be patient awaiting your order especially when you can see quite a lot of people up there We were forced to cancel our order after 40 minutes waiting as we had another appointment planned after   The location of the hotel is just perfect 150m to Diagonal Metro station Rambla is just 300 m away So for our family tour with some sightseeing and enjoying good restaurants this was a perfect choice The hotel is very comfortable and quiet You can have rest on the terrace bar with a breathtaking view of Barcelona especially illuminated Sagrada Familia in the night   When we arrived to check in there was a misunderstanding about whether we had made full payment including breakfast Actually we had already paid everything ie breakfast hotel tax and tourist tax but the check in staff said that I had paid only for the room and nothing else Fortunately I had a credit card statement from my bank to dispute this Also luckily on the day we checked out another front desk staff Klaudios was on duty and he confirmed that I had paid for everything in advance Actually I don t think it was fair for hotel to charge us the tourist tax in advance   The front desk staff were quite helpful  Having to pay for one item I used in the mini bar They tried to say I had used two when I hadn t I understand it s London prices but for think everything was expensive and the breakfast was extortionate I think having paid nearly 300 for two nights we may have got even one free bottle of water Also think the fact you have to pay upfront for your room expected this and then 50 a night depsoit is pretty bad as it didn t state this anywhere and I could have been relying on that 100 for my weekend away however luckily I wasn t On the Sunday we went to the Chico Latino bar and we were sat waiting 20 minutes from getting there to receiving our drink Feel like it s because we weren t a big party so they weren t concentrating on the two of us as much   Amazing room with really good facilities Excellent location it was a ten minute walk to the right to Big Ben Westminster bridge London eye and to the left was a ten minutes walk to the Vauxhall tube station Didn t spend much time in the room as we were on the go for the three days we spent there The staff we re really friendly and I could tell if we had any queries or needed any help they would have more than happy to help The concierge men were so friendly and went out their way to make conversation and to make you feel welcome The hotel was sparkling clean and smelt amazing I couldn t fault one thing with regards to the appearance of the hotel and the room Also the singer on the Saturday night at Chico Latino bar was really good and enjoyed listening to him   Loved everything only negative was STK We were looking so forward to dinner there however it was like a loud club at 10pm with drunk loud folk coming in to just drink and dance Better to go for lunch as opposed to dinner  Charming helpful staff Great breakfast Loved the mood lighting and music in room too'"
      ]
     },
     "execution_count": 43,
     "metadata": {},
     "output_type": "execute_result"
    }
   ],
   "source": [
    "concatenated_reviews"
   ]
  },
  {
   "cell_type": "code",
   "execution_count": 44,
   "id": "a89e76de-311f-468a-b790-525c9821d839",
   "metadata": {},
   "outputs": [
    {
     "name": "stdout",
     "output_type": "stream",
     "text": [
      "Here's a brief summary of the overall sentiment of customers about food and restaurants based on the reviews:\n",
      "\n",
      "**Negative comments:**\n",
      "\n",
      "* Most restaurants had limited choices of average food.\n",
      "* Food was not freshly prepared, e.g. tea cakes were cold and crab cakes were not available.\n",
      "* Prices were considered extortionate.\n",
      "* Staff were slow in preparing beverages at the bar.\n",
      "* One restaurant (STK) was too loud and chaotic in the evening.\n",
      "\n",
      "**Positive comments:**\n",
      "\n",
      "* Some restaurants had great locations and views, e.g. the hotel's terrace bar had a breathtaking view of Barcelona.\n",
      "* Staff at some restaurants were charming and helpful.\n",
      "* Some restaurants had a good selection of snacks and drinks.\n",
      "* One restaurant (Chico Latino bar) had a great atmosphere and a good singer on Saturday night.\n",
      "* The breakfast at one hotel was excellent.\n",
      "\n",
      "**Overall sentiment:**\n",
      "\n",
      "The overall sentiment of customers about food and restaurants is mostly negative, with many expressing disappointment and frustration with the limited choices, slow service, and high prices. However, there are some positive comments about the charm and helpfulness of staff, and the great locations and views of some restaurants.\n"
     ]
    }
   ],
   "source": [
    "from together import Together\n",
    "import os\n",
    "client = Together()\n",
    "response = client.chat.completions.create(\n",
    "    model=\"meta-llama/Llama-Vision-Free\",\n",
    "    messages = [{\"role\": \"user\", \"content\": f\"\"\"Briefly Summarize the overall sentiment of customers about food and restaurant based on these reviews - {\n",
    "    concatenated_reviews}. Dont mention the name of the hotel\"\"\"}]\n",
    ")\n",
    "print(response.choices[0].message.content)\n"
   ]
  }
 ],
 "metadata": {
  "kernelspec": {
   "display_name": "base",
   "language": "python",
   "name": "python3"
  },
  "language_info": {
   "codemirror_mode": {
    "name": "ipython",
    "version": 3
   },
   "file_extension": ".py",
   "mimetype": "text/x-python",
   "name": "python",
   "nbconvert_exporter": "python",
   "pygments_lexer": "ipython3",
   "version": "3.11.5"
  }
 },
 "nbformat": 4,
 "nbformat_minor": 5
}
